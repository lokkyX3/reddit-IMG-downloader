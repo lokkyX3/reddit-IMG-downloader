{
  "nbformat": 4,
  "nbformat_minor": 0,
  "metadata": {
    "colab": {
      "name": "testPRAW_final.ipynb",
      "provenance": [],
      "collapsed_sections": [],
      "authorship_tag": "ABX9TyNZBSp5ShxkpTlTd3tOaDMt",
      "include_colab_link": true
    },
    "kernelspec": {
      "name": "python3",
      "display_name": "Python 3"
    }
  },
  "cells": [
    {
      "cell_type": "markdown",
      "metadata": {
        "id": "view-in-github",
        "colab_type": "text"
      },
      "source": [
        "<a href=\"https://colab.research.google.com/github/lokkyX3/reddit-IMG-downloader/blob/main/reddit_IMG_downloader.ipynb\" target=\"_parent\"><img src=\"https://colab.research.google.com/assets/colab-badge.svg\" alt=\"Open In Colab\"/></a>"
      ]
    },
    {
      "cell_type": "code",
      "metadata": {
        "id": "q0GElbqX3JXa"
      },
      "source": [
        "\n",
        "import praw\n",
        "import requests\n",
        "import time\n",
        "from IPython.display import Image, display\n",
        "from google.colab import files\n",
        "from multiprocessing.pool import ThreadPool as Pool"
      ],
      "execution_count": null,
      "outputs": []
    },
    {
      "cell_type": "code",
      "metadata": {
        "id": "moPvPTXOQt-f"
      },
      "source": [
        "class ImageDownloader(object):\n",
        "\n",
        "  counter = 0\n",
        "\n",
        "  def __init__(self, target_user):\n",
        "    # OAuth Credentials\n",
        "    self.reddit = praw.Reddit(\n",
        "                        client_id='',\n",
        "                        client_secret='',\n",
        "                        username='',\n",
        "                        password='',\n",
        "                        user_agent='',\n",
        "                        )\n",
        "    self.get_user_post(target_user)\n",
        "  \n",
        "  def download_images(self, sub_id, subreddit, url, counter):\n",
        "    filename = f'{counter}_{sub_id}_{subreddit}.{url.split(\".\")[-1]}' #filename.file extension\n",
        "    with open(filename,'wb') as img:\n",
        "      img.write(requests.get(url, stream = True).content)\n",
        "    files.download(filename)\n",
        "\n",
        "  def download_imgur_album(self, sub_id, subreddit, url, counter):\n",
        "    album = f'{counter}_{sub_id}_{subreddit}.{url.split(\"/\")[-1]}' #filename.file extension\n",
        "    with open(album,'wb') as img:\n",
        "      img.write(requests.get(url, stream = True).content)\n",
        "    files.download(album)\n",
        "\n",
        "#Check whether submission is single image or an Imgur album \n",
        "  def process_function(self, submission):\n",
        "    if submission.url.endswith(('.jpg', '.jpeg', '.png', '.gifs', '.gif', '.gifv')):\n",
        "      self.download_images(submission.id, submission.subreddit.display_name, submission.url.replace('.gifv', '.mp4'), self.counter)\n",
        "      self.counter+=1\n",
        "    elif 'imgur.com/a' in submission.url:\n",
        "      self.download_imgur_album(submission.id, submission.subreddit.display_name, submission.url+'/zip', self.counter)\n",
        "      self.counter+=1\n",
        "\n",
        "  def get_user_post(self, user):\n",
        "    # for submission in self.reddit.redditor(user).submissions.top('all'):\n",
        "    with Pool(2) as p:\n",
        "      p.map(self.process_function,self.reddit.redditor(user).submissions.top('all'))\n",
        "\n",
        "\n"
      ],
      "execution_count": null,
      "outputs": []
    },
    {
      "cell_type": "code",
      "metadata": {
        "id": "kEhP0CCMSX51"
      },
      "source": [
        "start_time = time.time()\n",
        "ImageDownloader('insert_username_here')\n",
        "print(time.time()-start_time)\n"
      ],
      "execution_count": null,
      "outputs": []
    }
  ]
}